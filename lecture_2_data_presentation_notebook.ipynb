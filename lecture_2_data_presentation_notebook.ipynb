{
 "cells": [
  {
   "cell_type": "markdown",
   "metadata": {},
   "source": [
    "## The Situation\n",
    "\n",
    "The IT department supplies the data in a SQlite database which contains 3 tables due to data protection regulations:\n",
    "\n",
    "-   `insurance_feats`: Table of attributes (features) of the beneficiaries\n",
    "-   `id_table`: Connection between the attributes and the target variable\n",
    "-   `insurance_targets`: Target variable with corresponding ID\n",
    "\n",
    "**You are asked to read in the data and provide one clean table**\n",
    "\n",
    "## Data Import\n",
    "\n",
    "First, connect to database via dplyr:"
   ]
  },
  {
   "cell_type": "code",
   "execution_count": null,
   "metadata": {},
   "outputs": [],
   "source": [
    "library(dplyr)\n",
    "db = src_sqlite(\"data/insurance.sqlite3\")"
   ]
  },
  {
   "cell_type": "code",
   "execution_count": null,
   "metadata": {},
   "outputs": [],
   "source": [
    "id_table = tbl(db, \"id_table\") %>% data.frame()\n",
    "insurance_feats = tbl(db, \"insurance_feats\") %>% data.frame()\n",
    "insurance_targets = tbl(db, \"insurance_targets\") %>% data.frame()"
   ]
  },
  {
   "cell_type": "markdown",
   "metadata": {},
   "source": [
    "Then, we can merge the dataframes."
   ]
  },
  {
   "cell_type": "code",
   "execution_count": null,
   "metadata": {},
   "outputs": [],
   "source": [
    "insurance = insurance_feats %>%\n",
    "  left_join(id_table, by = c(\"id\" = \"id1\")) %>%\n",
    "  left_join(insurance_targets, by = c(\"id2\" = \"id\"))\n",
    "insurance_raw = insurance\n",
    "head(insurance_raw)"
   ]
  },
  {
   "cell_type": "markdown",
   "metadata": {},
   "source": [
    "Finally, we remove the IDs."
   ]
  },
  {
   "cell_type": "code",
   "execution_count": null,
   "metadata": {},
   "outputs": [],
   "source": [
    "insurance = insurance %>% select(-id, -id2)\n",
    "head(insurance)"
   ]
  },
  {
   "cell_type": "markdown",
   "metadata": {},
   "source": [
    "## Data Cleaning + EDA\n",
    "\n",
    "After creating the full dataset, a colleague shows you some strange results:"
   ]
  },
  {
   "cell_type": "code",
   "execution_count": null,
   "metadata": {},
   "outputs": [],
   "source": [
    "lm(charges ~ bmi, data = insurance)"
   ]
  },
  {
   "cell_type": "markdown",
   "metadata": {},
   "source": [
    "**Take a closer look at the data and check it for inconsistencies**\n",
    "\n",
    "We make some plots of the dataset:"
   ]
  },
  {
   "cell_type": "code",
   "execution_count": null,
   "metadata": {},
   "outputs": [],
   "source": [
    "summary(insurance[, c(\"age\", \"sex\", \"bmi\", \"children\", \"smoker\", \"region\")])"
   ]
  },
  {
   "cell_type": "markdown",
   "metadata": {},
   "source": [
    "The plots show indicate some problems:\n",
    "\n",
    "- `bmi` contains outliers $\\rightarrow$ how can we detect them?\n",
    "- We have missing values in `age` which are coded as `-999` $\\rightarrow$ transformation to real missings\n",
    "- Real missings in `sex` and `bmi` $\\rightarrow$ what should we do with missings?\n",
    "\n",
    "\n",
    "Lets start with recoding the missing values."
   ]
  },
  {
   "cell_type": "code",
   "execution_count": null,
   "metadata": {},
   "outputs": [],
   "source": [
    "insurance$age[insurance$age == -999] = NA"
   ]
  },
  {
   "cell_type": "markdown",
   "metadata": {},
   "source": [
    "Then we try to detect the outliers:"
   ]
  },
  {
   "cell_type": "code",
   "execution_count": null,
   "metadata": {},
   "outputs": [],
   "source": [
    "library(ggplot2)\n",
    "ggplot(insurance, aes(x = \"\", y = bmi)) + geom_boxplot() "
   ]
  },
  {
   "cell_type": "markdown",
   "metadata": {},
   "source": [
    "We should not use `mean` or `sd`, because these functions are very sensitive to outliers:"
   ]
  },
  {
   "cell_type": "code",
   "execution_count": null,
   "metadata": {},
   "outputs": [],
   "source": [
    "mean(insurance$bmi)\n",
    "median(insurance$bmi)\n",
    "sd(insurance$bmi)\n",
    "mad(insurance$bmi)"
   ]
  },
  {
   "cell_type": "markdown",
   "metadata": {},
   "source": [
    "Instead, we use the median and 5 times the mean absolute deviation as a outer bound for outliers:"
   ]
  },
  {
   "cell_type": "code",
   "execution_count": null,
   "metadata": {},
   "outputs": [],
   "source": [
    "med = median(insurance$bmi)\n",
    "s = mad(insurance$bmi)\n",
    "outlier = insurance$bmi > med + 5 * s | insurance$bmi < med - 5 * s\n",
    "insurance$bmi[outlier] = NA"
   ]
  },
  {
   "cell_type": "markdown",
   "metadata": {},
   "source": [
    "### Cleaned Dataset\n",
    "\n",
    "Let's now have a look at the cleaned dataset:\n",
    "\n",
    "\n",
    "\n",
    "### Effect of Outliers\n",
    "\n",
    "To see how outliers might effect the modeling process, we train to linear models on the original and the cleaned data respectively:"
   ]
  },
  {
   "cell_type": "code",
   "execution_count": null,
   "metadata": {},
   "outputs": [],
   "source": [
    "mod_orig = lm(charges ~ bmi, data = insurance_raw)\n",
    "mod = lm(charges ~ bmi, data = insurance)"
   ]
  },
  {
   "cell_type": "markdown",
   "metadata": {},
   "source": [
    "Let's visualize the effect:"
   ]
  },
  {
   "cell_type": "code",
   "execution_count": null,
   "metadata": {},
   "outputs": [],
   "source": [
    "mod_orig = lm(charges ~ bmi, data = insurance_raw)\n",
    "mod = lm(charges ~ bmi, data = insurance)\n",
    "\n",
    "df_abline = data.frame(intercept = c(mod$coefficients[1], mod_orig$coefficients[1]), slope = c(mod$coefficients[2], mod_orig$coefficients[2]),\n",
    "  Data = c(\"After Processing\", \"Before Processing\"))\n",
    "\n",
    "ggplot() +\n",
    "  geom_point(data = insurance, mapping = aes(x = bmi, y = charges), size = 2, shape = 16, alpha = 0.5) +\n",
    "  geom_abline(data = df_abline, mapping = aes(intercept = intercept, slope = slope, color = Data)) +\n",
    "  scale_x_continuous(limits = c(15, 60))"
   ]
  },
  {
   "cell_type": "markdown",
   "metadata": {},
   "source": [
    "# Exploratory Data Analysis\n",
    "\n",
    "After cleaning the dataset you want to do a first exploratory analysis.\n",
    "To get a better idea of the data, you want to illustrate simple dependencies between the interesting variable `charges` and the features.\n",
    "\n",
    "**Therefore, visualize univariate and multivariate dependencies with focus on `charges`**\n",
    "\n",
    "###  Charges vs Age"
   ]
  },
  {
   "cell_type": "code",
   "execution_count": null,
   "metadata": {},
   "outputs": [],
   "source": [
    "ggplot(insurance, aes(x = age, y = charges)) +\n",
    "  geom_point(alpha = 0.4)"
   ]
  },
  {
   "cell_type": "markdown",
   "metadata": {},
   "source": [
    "### Charges vs Gender"
   ]
  },
  {
   "cell_type": "code",
   "execution_count": null,
   "metadata": {},
   "outputs": [],
   "source": [
    "ggplot(insurance, aes(x = sex, y = charges)) + geom_boxplot()"
   ]
  },
  {
   "cell_type": "markdown",
   "metadata": {},
   "source": [
    "### Charges vs BMI"
   ]
  },
  {
   "cell_type": "code",
   "execution_count": null,
   "metadata": {},
   "outputs": [],
   "source": [
    "ggplot(insurance, aes(x = bmi, y = charges)) +\n",
    "  geom_point(alpha = 0.4)"
   ]
  },
  {
   "cell_type": "markdown",
   "metadata": {},
   "source": [
    "### Charges vs Children"
   ]
  },
  {
   "cell_type": "code",
   "execution_count": null,
   "metadata": {},
   "outputs": [],
   "source": [
    "ggplot(insurance, aes(x = as.factor(children), y = charges)) +\n",
    "  geom_boxplot(alpha = 0.4)"
   ]
  },
  {
   "cell_type": "markdown",
   "metadata": {},
   "source": [
    "### Charges vs Smoker"
   ]
  },
  {
   "cell_type": "code",
   "execution_count": null,
   "metadata": {},
   "outputs": [],
   "source": [
    "ggplot(insurance, aes(x = smoker, y = charges)) + geom_boxplot()"
   ]
  },
  {
   "cell_type": "markdown",
   "metadata": {},
   "source": [
    "### Charges vs Region"
   ]
  },
  {
   "cell_type": "code",
   "execution_count": null,
   "metadata": {},
   "outputs": [],
   "source": [
    "ggplot(insurance, aes(x = region, y = charges)) + geom_boxplot()"
   ]
  }
 ],
 "metadata": {},
 "nbformat": 4,
 "nbformat_minor": 2
}
